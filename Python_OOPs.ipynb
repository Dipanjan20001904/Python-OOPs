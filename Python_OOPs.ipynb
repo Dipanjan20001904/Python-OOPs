{
  "nbformat": 4,
  "nbformat_minor": 0,
  "metadata": {
    "colab": {
      "provenance": []
    },
    "kernelspec": {
      "name": "python3",
      "display_name": "Python 3"
    },
    "language_info": {
      "name": "python"
    }
  },
  "cells": [
    {
      "cell_type": "markdown",
      "source": [
        "#Python OOPs"
      ],
      "metadata": {
        "id": "rbSyrexGlWwu"
      }
    },
    {
      "cell_type": "markdown",
      "source": [
        "1. What is Object-Oriented Programming (OOP)?\n",
        "\n",
        "- Object-Oriented Programming (OOP) is a programming paradigm that organizes software design around data, or objects, rather than functions and logic. It uses concepts like classes, objects, inheritance, polymorphism, encapsulation, and abstraction to build programs.\n",
        "\n",
        "2. What is a class in OOP?\n",
        "\n",
        "- In object-oriented programming (OOP), a class is a template for creating objects, defining the characteristics or attributes and behaviors or methods that objects of that class will share.\n",
        "\n",
        "3. What is an object in OOP?\n",
        "\n",
        "- An object is a fundamental unit that summarize data or attributes and methods  representing a real-world entity or concept, and is an instance of a class.\n",
        "\n",
        "4. What is the difference between abstraction and encapsulation?\n",
        "\n",
        "- Abstraction\n",
        "\n",
        " Hiding complex implementation details and showing only essential information to the user.\n",
        "\n",
        " By using abstract classes and interfaces, we can define a blueprint for other classes without revealing the internal workings. This simplifies the user's interaction with the code.\n",
        "\n",
        " Abstraction is like providing a user manual, showing only the necessary controls.\n",
        "\n",
        " Example: Consider a car. You know how to use the steering wheel, accelerator, and brakes to drive it. You don't need to know about the engine, transmission, and other internal components. This is abstraction.\n",
        "\n",
        "- Encapsulation\n",
        "\n",
        " Bundling data (attributes) and methods (functions) that operate on that data within a single unit (class).\n",
        "\n",
        " It restricts direct access to some of an object's components. You interact with the object through defined methods, ensuring data integrity and controlled modifications.\n",
        "\n",
        " Encapsulation is like putting those controls inside a protective box, allowing access only through specific buttons and knobs.\n",
        "  \n",
        " Example: Think of a capsule containing medicine. The medicine is the data, and the capsule's shell protects it. You can only access the medicine by opening the capsule in a specific way. This is encapsulation.\n",
        "\n",
        " 5. What are dunder methods in Python?\n",
        "\n",
        " - Definition: Dunder methods (also called magic methods or special methods) are methods in Python that have double underscores (dunders) at the beginning and end of their names.\n",
        " Example -  __init__, __str__, or __add__\n",
        "\n",
        " These allow us to define how our objects behave with built-in functions and operators like +, -, *, /, len(), str(), and many others.\n",
        "\n",
        " 6.  Explain the concept of inheritance in OOP.\n",
        "\n",
        " - Inheritance is a mechanism that allows us to create new classes (called derived or child classes) based on existing classes (called base or parent class).\n",
        "\n",
        " It promotes code reusability and reduces code duplication. The derived class inherits the attributes and methods of the base class, and can also add its own unique features.\n",
        "\n",
        " 7. What is polymorphism in OOP?\n",
        "\n",
        " - Polymorphism (meaning \"many forms\") allows objects of different classes to be treated as objects of a common type, enabling flexibility and code reusability by using a single interface for various functionalities.\n",
        "\n",
        " 8. How is encapsulation achieved in Python?\n",
        "\n",
        " - Encapsulation in Python is achieved using access modifiers: public, private, and protected. These modifiers control the accessibility of class members (attributes and methods).\n",
        "\n",
        "Public: Accessible from anywhere. This is the default for all members in Python.\n",
        "\n",
        "Private: Accessible only within the class. Indicated by a double underscore (__).\n",
        "\n",
        "Protected: Accessible within the class and its subclasses. Indicated by a single underscore  (_).\n",
        "\n",
        "9. What is a constructor in Python?\n",
        "\n",
        "- In Python, a constructor is a special method named __init__ that is automatically called when an object of a class is created. It is used to initialize the attributes of the object.\n",
        "\n",
        "The primary purpose of a constructor is to initialize the object's attributes with initial values.\n",
        "\n",
        "It ensures that the object is in a valid state when it is created.\n",
        "\n",
        "10. What are class and static methods in Python?\n",
        "\n",
        "- Definition: A class method is a method that is bound to the class and not the instance of the class. It can access and modify class-level attributes.\n",
        "\n",
        "- Decorated with @classmethod.\n",
        "\n",
        "- cls, which refers to the class itself.\n",
        "\n",
        "11. What is method overloading in Python?\n",
        "\n",
        "- Method overloading is the ability to define multiple methods with the same name but with different parameters within the same class. This allows the method to perform different actions based on the type or number of arguments provided.\n",
        "\n",
        "- Python doesn't support method overloading like some other languages (e.g., Java, C++). If we define multiple methods with the same name, the last definition will override the previous ones.\n",
        "\n",
        "12. What is method overriding in OOP?\n",
        "\n",
        "- Method overriding is a concept in OOP where a subclass provides a specific implementation for a method that is already defined in its superclass (parent class).\n",
        "  \n",
        "i. WE have a base class (parent class) with a method.\n",
        "\n",
        "ii. A subclass (child class) inherits from the base class.\n",
        "\n",
        "iii. The subclass provides its own implementation of the method that is already defined in the base class.\n",
        "\n",
        "13. What is a property decorator in Python?\n",
        "\n",
        "- In Python, the property decorator is a built-in decorator that is used to define properties in a class. It provides a way to manage the access and modification of attributes without using explicit getter and setter methods. It essentially makes attributes in a class act like read-only properties, allowing us to access methods as if they were attributes without needing to write parentheses.\n",
        "\n",
        "14. Why is polymorphism important in OOP?\n",
        "\n",
        "- Polymorphism, meaning \"many forms,\" is a powerful tool in OOP that allows us to treat objects of different classes in a uniform way. Here's why it's important:\n",
        "\n",
        "- Flexibility and Code Reusability:\n",
        "\n",
        "Polymorphism enables you to write code that can work with objects of various types without needing to know their specific class. This promotes flexibility and code reusability.\n",
        "You can create generic functions or methods that can operate on objects of different classes, as long as they share a common interface (e.g., through inheritance or interfaces).\n",
        "\n",
        "- Extensibility and Maintainability:\n",
        "\n",
        "Polymorphism makes it easier to extend and maintain your code. You can introduce new classes without modifying existing code, as long as the new classes adhere to the established interface.\n",
        "This reduces the risk of introducing bugs and makes it easier to adapt your code to evolving requirements.\n",
        "\n",
        "- Modularity and Abstraction:\n",
        "\n",
        "Polymorphism promotes modularity by allowing you to encapsulate different behaviors within individual classes.\n",
        "It also supports abstraction by hiding implementation details behind a common interface. This makes your code more organized and easier to understand.\n",
        "\n",
        "- Dynamic Binding and Runtime Flexibility:\n",
        "\n",
        "Polymorphism facilitates dynamic binding, which means that the specific method to be executed is determined at runtime based on the actual object type.\n",
        "This allows for greater flexibility and adaptability in your programs, as the behavior can change dynamically based on the context.\n",
        "\n",
        "\n",
        "15. What is an abstract class in Python?\n",
        "\n",
        "- An abstract class in Python is a blueprint for other classes, but it cannot be started on its own. It's meant to be subclassed, and its subclasses provide concrete implementations for the abstract methods defined in the abstract class. Abstract classes often include abstract methods, which are declared but have no implementation.\n",
        "\n",
        "16. What are the advantages of OOP?\n",
        "\n",
        "- Modularity: OOP allows you to break down your code into smaller, more manageable modules called objects. These objects encapsulate data and functionality, making it easier to understand and maintain your code.\n",
        "\n",
        "\n",
        "Reusability: Objects can be reused in different parts of your program or even in other programs. This saves time and effort and helps to promote consistency across your projects.\n",
        "\n",
        "\n",
        "Flexibility: Objects can be easily modified or extended without affecting other parts of your program. This makes your code more flexible and adaptable to changing requirements.\n",
        "\n",
        "\n",
        "Maintainability: OOP makes it easier to maintain your code over time. Objects can be easily tested and debugged in isolation, which helps to reduce the risk of introducing bugs into your system.\n",
        "Data security: With the use of encapsulation, data is protected from unauthorized access, improving data security and preventing unintentional modifications.\n",
        "\n",
        "\n",
        "Efficiency: Inheritance and polymorphism in OOP promote code reuse and reduce redundancy, improving the overall efficiency of the program.\n",
        "\n",
        "\n",
        "Real-world modeling: OOP allows for closer representation of real-world entities and relationships through objects and their interactions.\n",
        "\n",
        "\n",
        "Improved Collaboration: OOP facilitates collaboration among developers by breaking down complex systems into smaller, independent modules. This makes it easier for multiple developers to work on the same project concurrently.\n",
        "\n",
        "\n",
        "17. What is the difference between a class variable and an instance variable?\n",
        "\n",
        "- Class Variable:\n",
        "\n",
        "Definition: A class variable is a variable that is shared by all instances (objects) of a class. It is defined within the class but outside of any methods.\n",
        "\n",
        "Declaration: Class variables are typically declared directly within the class, before any methods.\n",
        "\n",
        "Access: Class variables can be accessed using either the class name or an instance of the class.\n",
        "\n",
        "Scope: Class variables have a global scope within the class and are accessible to all instances.\n",
        "\n",
        "Modification: Modifying a class variable using the class name affects all instances of the class. However, if modified through an instance, it creates a new instance variable with the same name, shadowing the class variable for that specific instance.\n",
        "\n",
        "\n",
        "- Instance Variable:\n",
        "\n",
        "Definition: An instance variable is a variable that is unique to each instance of a class. It is defined within the methods of the class, usually within the __init__ constructor.\n",
        "\n",
        "Declaration: Instance variables are declared using the self keyword within the methods of the class.\n",
        "\n",
        "Access: Instance variables can only be accessed through an instance of the class.\n",
        "\n",
        "Scope: Instance variables have a local scope within the instance and are not accessible to other instances.\n",
        "\n",
        "Modification: Modifying an instance variable only affects that specific instance and does not impact other instances or the class variable.\n",
        "\n",
        "\n",
        "18. What is multiple inheritance in Python?\n",
        "\n",
        "- In Python, multiple inheritance is a feature that allows a class to inherit from multiple base classes. This means that a derived class can inherit attributes and methods from multiple parent classes, combining their functionalities.\n",
        "\n",
        "\n",
        "19. Explain the purpose of ‘’__str__’ and ‘__repr__’ ‘ methods in Python.\n",
        "\n",
        "- __str__ method:\n",
        "\n",
        "Purpose: The __str__ method is used to provide a user-friendly string representation of an object. It is intended to be readable and informative for end-users.\n",
        "\n",
        "- __repr__ method:\n",
        "\n",
        "Purpose: The __repr__ method is used to provide a more detailed string representation of an object. It is primarily intended for developers and debugging purposes.\n",
        "\n",
        "\n",
        "20.  What is the significance of the ‘super()’ function in Python?\n",
        "\n",
        "- The super() function in Python is used to call a method from a parent class (also known as a superclass or base class) within a child class (also known as a subclass or derived class). It's a powerful tool for extending the functionality of existing classes and promoting code reuse through inheritance.\n",
        "\n",
        "\n",
        "21. What is the significance of the __del__ method in Python?\n",
        "\n",
        "- The __del__ method is a special method in Python classes, also known as the \"destructor\".The primary significance of the __del__ method is to perform cleanup actions before an object is destroyed.\n",
        "\n",
        "22. What is the difference between @staticmethod and @classmethod in Python?\n",
        "\n",
        "\n",
        "- Binding\n",
        "\n",
        "@staticmethod: The method is not bound to either the class or any instance of the class. It behaves like a regular function that happens to be defined within a class. It does not receive any implicit arguments (like self or cls).\n",
        "\n",
        "@classmethod: The method is bound to the class itself, not to a specific instance. It receives the class object (cls) as the first implicit argument.\n",
        "\n",
        "- Usage\n",
        "\n",
        "@staticmethod: Use it when you have a utility function that conceptually belongs to a class but doesn't need access to the class or instance data. Consider it as a namespaced function that's organized within a class.\n",
        "\n",
        "@classmethod: Use it when you need to work with the class itself, like creating factory methods (alternative constructors) or accessing/modifying class-level attributes.\n",
        "\n",
        "\n",
        "23. How does polymorphism work in Python with inheritance?\n",
        "\n",
        "- Polymorphism, meaning \"many forms,\" allows objects of different classes to be treated as objects of a common type. In Python, inheritance plays a crucial role in achieving polymorphism.\n",
        "\n",
        "Inheritance: A subclass inherits attributes and methods from its parent class (also known as the base class or superclass).\n",
        "\n",
        "Method Overriding: A subclass can provide a specific implementation for a method that is already defined in its parent class. This is called method overriding.\n",
        "\n",
        "Dynamic Binding: When a method is called on an object, Python determines the correct implementation to execute at runtime based on the object's actual type. This is known as dynamic binding or late binding.\n",
        "\n",
        "\n",
        "24. What is method chaining in Python OOP?\n",
        "\n",
        "-  Method chaining is a programming technique that allows us to call multiple methods on an object sequentially in a single line of code. It enhances the readability and conciseness of our code by eliminating the need for intermediate variables.\n",
        "\n",
        "25. What is the purpose of the __call__ method in Python?\n",
        "\n",
        "- In Python, the __call__ method is a special method that allows us to make an object callable like a function. When we define the __call__ method within a class, we can then use instances of that class as if they were functions."
      ],
      "metadata": {
        "id": "LWMG_3VSlZhF"
      }
    },
    {
      "cell_type": "code",
      "source": [],
      "metadata": {
        "id": "b7nVp8iAlE-H"
      },
      "execution_count": null,
      "outputs": []
    },
    {
      "cell_type": "code",
      "source": [],
      "metadata": {
        "id": "w4tItjSWOxNm"
      },
      "execution_count": null,
      "outputs": []
    },
    {
      "cell_type": "code",
      "source": [],
      "metadata": {
        "id": "c7Jt93YKOxEH"
      },
      "execution_count": null,
      "outputs": []
    },
    {
      "cell_type": "code",
      "source": [
        "# 1. Create a parent class Animal with a method speak() that prints a generic message. Create a child class Dog that overrides the speak() method to print \"Bark!\".\n",
        "\n",
        "\n",
        "class Animal:\n",
        "    def speak(self):\n",
        "        print(\"Generic animal sound\")\n",
        "\n",
        "class Dog(Animal):\n",
        "    def speak(self):\n",
        "        print(\"Bark!\")"
      ],
      "metadata": {
        "id": "CRrI8DSmOw1P"
      },
      "execution_count": 1,
      "outputs": []
    },
    {
      "cell_type": "code",
      "source": [
        "animal1 = Animal()"
      ],
      "metadata": {
        "id": "HYBTWKawTj8z"
      },
      "execution_count": 2,
      "outputs": []
    },
    {
      "cell_type": "code",
      "source": [
        "dog1 = Dog()"
      ],
      "metadata": {
        "id": "Ot_fgHbmTwSJ"
      },
      "execution_count": 3,
      "outputs": []
    },
    {
      "cell_type": "code",
      "source": [
        "animal1.speak()"
      ],
      "metadata": {
        "colab": {
          "base_uri": "https://localhost:8080/"
        },
        "id": "FGHB6mlSTzQB",
        "outputId": "0e700e0b-b919-480b-f6c0-2f281dae4f54"
      },
      "execution_count": 4,
      "outputs": [
        {
          "output_type": "stream",
          "name": "stdout",
          "text": [
            "Generic animal sound\n"
          ]
        }
      ]
    },
    {
      "cell_type": "code",
      "source": [
        "dog1.speak()"
      ],
      "metadata": {
        "colab": {
          "base_uri": "https://localhost:8080/"
        },
        "id": "lHrlKo8UT2XB",
        "outputId": "718cf0e5-b301-4d55-9776-b589def35f4b"
      },
      "execution_count": 5,
      "outputs": [
        {
          "output_type": "stream",
          "name": "stdout",
          "text": [
            "Bark!\n"
          ]
        }
      ]
    },
    {
      "cell_type": "code",
      "source": [],
      "metadata": {
        "id": "NoaMwFipT5AR"
      },
      "execution_count": 5,
      "outputs": []
    },
    {
      "cell_type": "code",
      "source": [
        "# 2.  Write a program to create an abstract class Shape with a method area(). Derive classes Circle and Rectangle from it and implement the area() method in both.\n",
        "\n",
        "from abc import ABC, abstractmethod\n",
        "import math\n",
        "\n",
        "class Shape(ABC):  # Abstract class\n",
        "    @abstractmethod\n",
        "    def area(self):\n",
        "        pass\n",
        "\n",
        "class Circle(Shape):\n",
        "    def __init__(self, radius):\n",
        "        self.radius = radius\n",
        "\n",
        "    def area(self):\n",
        "        return math.pi * self.radius**2\n",
        "\n",
        "class Rectangle(Shape):\n",
        "    def __init__(self, width, height):\n",
        "        self.width = width\n",
        "        self.height = height\n",
        "\n",
        "    def area(self):\n",
        "        return self.width * self.height"
      ],
      "metadata": {
        "id": "Oe1AO0PMT_LR"
      },
      "execution_count": 6,
      "outputs": []
    },
    {
      "cell_type": "code",
      "source": [
        "c1 = Circle(5)"
      ],
      "metadata": {
        "id": "sLYlFLL2Uyzi"
      },
      "execution_count": 7,
      "outputs": []
    },
    {
      "cell_type": "code",
      "source": [
        "print(\"Circle Area:\", c1.area())"
      ],
      "metadata": {
        "colab": {
          "base_uri": "https://localhost:8080/"
        },
        "id": "u6JDwJSBV94Z",
        "outputId": "f8bfc161-4f70-4925-c62e-718e0b6cd3bc"
      },
      "execution_count": 8,
      "outputs": [
        {
          "output_type": "stream",
          "name": "stdout",
          "text": [
            "Circle Area: 78.53981633974483\n"
          ]
        }
      ]
    },
    {
      "cell_type": "code",
      "source": [
        "rec1 = Rectangle(4, 6)"
      ],
      "metadata": {
        "id": "WY-2nGOnWC33"
      },
      "execution_count": 9,
      "outputs": []
    },
    {
      "cell_type": "code",
      "source": [
        "print(\"Rectangle Area:\", rec1.area())"
      ],
      "metadata": {
        "colab": {
          "base_uri": "https://localhost:8080/"
        },
        "id": "jnuatD0qWIDy",
        "outputId": "078d3c7e-4ffc-44ab-acf3-17610d27fac3"
      },
      "execution_count": 10,
      "outputs": [
        {
          "output_type": "stream",
          "name": "stdout",
          "text": [
            "Rectangle Area: 24\n"
          ]
        }
      ]
    },
    {
      "cell_type": "code",
      "source": [
        "\n",
        "\n",
        "# 3 & 4.  Implement a multi-level inheritance scenario where a class Vehicle has an attribute type. Derive a class Car and further derive a class ElectricCar that adds a battery attribute.\n",
        "\n",
        "\n",
        "class Vehicle:\n",
        "    def __init__(self, type):\n",
        "        self.type = type\n",
        "\n",
        "class Car(Vehicle):\n",
        "    def __init__(self, type, model):\n",
        "        super().__init__(type)  # Call the parent class constructor\n",
        "        self.model = model\n",
        "\n",
        "class ElectricCar(Car):\n",
        "    def __init__(self, type, model, battery):\n",
        "        super().__init__(type, model)  # Call the parent class constructor\n",
        "        self.battery = battery"
      ],
      "metadata": {
        "id": "MOBDMJ_9WOzP"
      },
      "execution_count": 11,
      "outputs": []
    },
    {
      "cell_type": "code",
      "source": [
        "vehicle1 = Vehicle(\"Truck\")"
      ],
      "metadata": {
        "id": "Ow5t1lY3XEjH"
      },
      "execution_count": 12,
      "outputs": []
    },
    {
      "cell_type": "code",
      "source": [
        "print(vehicle1.type)"
      ],
      "metadata": {
        "colab": {
          "base_uri": "https://localhost:8080/"
        },
        "id": "OLtjQFqcXOLe",
        "outputId": "70c5a538-ce1f-4989-98a9-3c9088707d1a"
      },
      "execution_count": 13,
      "outputs": [
        {
          "output_type": "stream",
          "name": "stdout",
          "text": [
            "Truck\n"
          ]
        }
      ]
    },
    {
      "cell_type": "code",
      "source": [
        "car2 = Car(\"Sedan\", \"Toyota Camry\")"
      ],
      "metadata": {
        "id": "Zpg6fJ-WXRqW"
      },
      "execution_count": 14,
      "outputs": []
    },
    {
      "cell_type": "code",
      "source": [
        "print(car2.type, car2.model)"
      ],
      "metadata": {
        "colab": {
          "base_uri": "https://localhost:8080/"
        },
        "id": "wHV6wElaXVNW",
        "outputId": "1227cbf0-35ae-4b73-8218-e52a9a1e6cdf"
      },
      "execution_count": 15,
      "outputs": [
        {
          "output_type": "stream",
          "name": "stdout",
          "text": [
            "Sedan Toyota Camry\n"
          ]
        }
      ]
    },
    {
      "cell_type": "code",
      "source": [
        "electric_car3 = ElectricCar(\"Coupe\", \"Mahinndra B6E\", \"100kWh\")"
      ],
      "metadata": {
        "id": "uJ44VDctXb9u"
      },
      "execution_count": 16,
      "outputs": []
    },
    {
      "cell_type": "code",
      "source": [
        "print(electric_car3.type, electric_car3.model, electric_car3.battery)"
      ],
      "metadata": {
        "colab": {
          "base_uri": "https://localhost:8080/"
        },
        "id": "Cb8YeohLXyOe",
        "outputId": "b825eaa3-564c-4ad0-8b08-b84ce04aa5fe"
      },
      "execution_count": 17,
      "outputs": [
        {
          "output_type": "stream",
          "name": "stdout",
          "text": [
            "Coupe Mahinndra B6E 100kWh\n"
          ]
        }
      ]
    },
    {
      "cell_type": "code",
      "source": [
        "\n",
        "\n",
        "# 5. Write a program to demonstrate encapsulation by creating a class BankAccount with private attributes balance and methods to deposit, withdraw, and check balance.\n",
        "\n",
        "\n",
        "class BankAccount:\n",
        "    def __init__(self, initial_balance=0):\n",
        "        self.__balance = initial_balance  # Private attribute\n",
        "\n",
        "    def deposit(self, amount):\n",
        "        if amount > 0:\n",
        "            self.__balance += amount\n",
        "            print(f\"Deposited: ${amount:.2f}\")\n",
        "        else:\n",
        "            print(\"Invalid deposit amount.\")\n",
        "\n",
        "    def withdraw(self, amount):\n",
        "        if 0 < amount <= self.__balance:\n",
        "            self.__balance -= amount\n",
        "            print(f\"Withdrawn: ${amount:.2f}\")\n",
        "        else:\n",
        "            print(\"Insufficient funds or invalid withdrawal amount.\")\n",
        "\n",
        "    def check_balance(self):\n",
        "        print(f\"Current balance: ${self.__balance:.2f}\")\n"
      ],
      "metadata": {
        "id": "Trkd_H-uX4Al"
      },
      "execution_count": 18,
      "outputs": []
    },
    {
      "cell_type": "code",
      "source": [
        "account1 = BankAccount(1000)\n",
        "account1.deposit(500)\n",
        "account1.withdraw(200)\n"
      ],
      "metadata": {
        "colab": {
          "base_uri": "https://localhost:8080/"
        },
        "id": "cvzj6AETZXIt",
        "outputId": "335d8404-f906-491b-d380-f82afe95e3f6"
      },
      "execution_count": 19,
      "outputs": [
        {
          "output_type": "stream",
          "name": "stdout",
          "text": [
            "Deposited: $500.00\n",
            "Withdrawn: $200.00\n"
          ]
        }
      ]
    },
    {
      "cell_type": "code",
      "source": [
        "account1.check_balance()"
      ],
      "metadata": {
        "colab": {
          "base_uri": "https://localhost:8080/"
        },
        "id": "D39dapyQZyQ8",
        "outputId": "0a892e96-9983-4288-89af-e43447ac1a57"
      },
      "execution_count": 20,
      "outputs": [
        {
          "output_type": "stream",
          "name": "stdout",
          "text": [
            "Current balance: $1300.00\n"
          ]
        }
      ]
    },
    {
      "cell_type": "code",
      "source": [
        "account2 = BankAccount(500)\n",
        "account2.withdraw(100)"
      ],
      "metadata": {
        "colab": {
          "base_uri": "https://localhost:8080/"
        },
        "id": "YiHap2nUaMOE",
        "outputId": "2984d30f-a9d7-44b2-89df-779b2ef83194"
      },
      "execution_count": 21,
      "outputs": [
        {
          "output_type": "stream",
          "name": "stdout",
          "text": [
            "Withdrawn: $100.00\n"
          ]
        }
      ]
    },
    {
      "cell_type": "code",
      "source": [
        "account2.check_balance()"
      ],
      "metadata": {
        "colab": {
          "base_uri": "https://localhost:8080/"
        },
        "id": "6M5REeo8a6_S",
        "outputId": "cf672a58-6419-40f1-b44f-d3bc461e3cf9"
      },
      "execution_count": 22,
      "outputs": [
        {
          "output_type": "stream",
          "name": "stdout",
          "text": [
            "Current balance: $400.00\n"
          ]
        }
      ]
    },
    {
      "cell_type": "code",
      "source": [
        "\n",
        "\n",
        "#6. Demonstrate runtime polymorphism using a method play() in a base class Instrument. Derive classes Guitar and Piano that implement their own version of play().\n",
        "\n",
        "\n",
        "class Instrument:\n",
        "    def play(self):\n",
        "        print(\"Playing a generic instrument sound\")\n",
        "\n",
        "class Guitar(Instrument):\n",
        "    def play(self):\n",
        "        print(\"Strumming the guitar strings\")\n",
        "\n",
        "class Piano(Instrument):\n",
        "    def play(self):\n",
        "        print(\"Playing the piano keys\")\n",
        "\n"
      ],
      "metadata": {
        "id": "83RygSUwa-B6"
      },
      "execution_count": 23,
      "outputs": []
    },
    {
      "cell_type": "code",
      "source": [
        "instrument1 = Instrument()\n",
        "guitar2 = Guitar()\n",
        "piano3 = Piano()"
      ],
      "metadata": {
        "id": "sA5p8lCrcNkS"
      },
      "execution_count": 24,
      "outputs": []
    },
    {
      "cell_type": "code",
      "source": [
        "for i in [instrument1, guitar2, piano3]:\n",
        "    i.play()"
      ],
      "metadata": {
        "colab": {
          "base_uri": "https://localhost:8080/"
        },
        "id": "nuKGWzOKcWeh",
        "outputId": "9b68f34a-dcd3-46c7-cdce-73a8a537428c"
      },
      "execution_count": 25,
      "outputs": [
        {
          "output_type": "stream",
          "name": "stdout",
          "text": [
            "Playing a generic instrument sound\n",
            "Strumming the guitar strings\n",
            "Playing the piano keys\n"
          ]
        }
      ]
    },
    {
      "cell_type": "code",
      "source": [
        "\n",
        "\n",
        "#7. Create a class MathOperations with a class method add_numbers() to add two numbers and a static method subtract_numbers() to subtract two numbers.\n",
        "\n",
        "\n",
        "class MathOperations:\n",
        "    @classmethod\n",
        "    def add_numbers(cls, num1, num2):\n",
        "      return num1 + num2 #Adds two numbers together.\n",
        "\n",
        "\n",
        "\n",
        "    @staticmethod\n",
        "    def subtract_numbers(num1, num2):\n",
        "      return num1 - num2  #Subtracts two numbers.\n",
        "\n",
        "\n",
        "\n"
      ],
      "metadata": {
        "id": "7oVdMmvecb4w"
      },
      "execution_count": 26,
      "outputs": []
    },
    {
      "cell_type": "code",
      "source": [
        "Addition = MathOperations.add_numbers(5, 3)"
      ],
      "metadata": {
        "id": "iRoqP7GQO-hO"
      },
      "execution_count": 27,
      "outputs": []
    },
    {
      "cell_type": "code",
      "source": [
        "Addition"
      ],
      "metadata": {
        "colab": {
          "base_uri": "https://localhost:8080/"
        },
        "id": "5-G4LxHaQQqz",
        "outputId": "7121dbb0-617b-415e-8a41-bccbe263750c"
      },
      "execution_count": 28,
      "outputs": [
        {
          "output_type": "execute_result",
          "data": {
            "text/plain": [
              "8"
            ]
          },
          "metadata": {},
          "execution_count": 28
        }
      ]
    },
    {
      "cell_type": "code",
      "source": [
        "Substract = MathOperations.subtract_numbers(10, 4)"
      ],
      "metadata": {
        "id": "mlWY-LncQVTr"
      },
      "execution_count": 29,
      "outputs": []
    },
    {
      "cell_type": "code",
      "source": [
        "Substract"
      ],
      "metadata": {
        "colab": {
          "base_uri": "https://localhost:8080/"
        },
        "id": "kM-n6hErQv31",
        "outputId": "fc969b94-2f10-4b66-a00f-6b5aa786aa57"
      },
      "execution_count": 30,
      "outputs": [
        {
          "output_type": "execute_result",
          "data": {
            "text/plain": [
              "6"
            ]
          },
          "metadata": {},
          "execution_count": 30
        }
      ]
    },
    {
      "cell_type": "code",
      "source": [],
      "metadata": {
        "id": "-pZmapARQyj7"
      },
      "execution_count": 30,
      "outputs": []
    },
    {
      "cell_type": "code",
      "source": [
        "# 8.   Implement a class Person with a class method to count the total number of persons created.\n",
        "\n",
        "\n",
        "class Person:\n",
        "    count = 0  # Class variable to store the count\n",
        "\n",
        "    def __init__(self, name):\n",
        "        self.name = name\n",
        "        Person.count += 1  # Increment count when a new Person is created\n",
        "\n",
        "    @classmethod\n",
        "    def get_total_persons(cls):\n",
        "      return cls.count #Returns the total number of persons created.\n",
        "\n",
        "\n"
      ],
      "metadata": {
        "id": "KSWOrvrpQ2Lr"
      },
      "execution_count": 31,
      "outputs": []
    },
    {
      "cell_type": "code",
      "source": [
        "person1 = Person(\"Dip\")\n",
        "person2 = Person(\"Ajay\")\n",
        "person3 = Person(\"Ram\")\n",
        "person4 = Person(\"Sam\")"
      ],
      "metadata": {
        "id": "rBgeKu8TRp7y"
      },
      "execution_count": 32,
      "outputs": []
    },
    {
      "cell_type": "code",
      "source": [
        "total_persons = Person.get_total_persons()"
      ],
      "metadata": {
        "id": "o2cCrzigSGZ7"
      },
      "execution_count": 33,
      "outputs": []
    },
    {
      "cell_type": "code",
      "source": [
        "total_persons"
      ],
      "metadata": {
        "colab": {
          "base_uri": "https://localhost:8080/"
        },
        "id": "4dqMxkvpSMX6",
        "outputId": "120e00f8-3c3d-4566-eaa5-2dc2d8505f2e"
      },
      "execution_count": 34,
      "outputs": [
        {
          "output_type": "execute_result",
          "data": {
            "text/plain": [
              "4"
            ]
          },
          "metadata": {},
          "execution_count": 34
        }
      ]
    },
    {
      "cell_type": "code",
      "source": [
        "# 9.  Write a class Fraction with attributes numerator and denominator. Override the str method to display the fraction as \"numerator/denominator\".\n",
        "\n",
        "\n",
        "class Fraction:\n",
        "    def __init__(self, numerator, denominator):\n",
        "        self.numerator = numerator\n",
        "        self.denominator = denominator\n",
        "\n",
        "    def __str__(self):\n",
        "        return f\"{self.numerator}/{self.denominator}\"  # Format as \"numerator/denominator\"\n"
      ],
      "metadata": {
        "id": "RlNRBipaSyvB"
      },
      "execution_count": 35,
      "outputs": []
    },
    {
      "cell_type": "code",
      "source": [
        "fraction1 = Fraction(3, 4)\n",
        "print(fraction1)"
      ],
      "metadata": {
        "colab": {
          "base_uri": "https://localhost:8080/"
        },
        "id": "o_e9KQcRVCs-",
        "outputId": "a7da0dc6-14fb-4e3f-a566-cbe96d95ee7d"
      },
      "execution_count": 36,
      "outputs": [
        {
          "output_type": "stream",
          "name": "stdout",
          "text": [
            "3/4\n"
          ]
        }
      ]
    },
    {
      "cell_type": "code",
      "source": [
        "# 10.  Demonstrate operator overloading by creating a class Vector and overriding the add method to add two vectors.\n",
        "\n",
        "class Vector:\n",
        "    def __init__(self, x, y):\n",
        "        self.x = x\n",
        "        self.y = y\n",
        "\n",
        "    def __add__(self, other):\n",
        "      return Vector(self.x + other.x, self.y + other.y)  #Overloads the + operator to add two vectors.\n",
        "\n",
        "    def __str__(self):\n",
        "      return f\"({self.x}, {self.y})\"    #Returns a string representation of the vector.\n",
        "\n",
        "\n",
        "\n"
      ],
      "metadata": {
        "id": "XjUa3VBhVIC-"
      },
      "execution_count": 37,
      "outputs": []
    },
    {
      "cell_type": "code",
      "source": [
        "v1 = Vector(2, 3)\n",
        "v2 = Vector(4, 5)"
      ],
      "metadata": {
        "id": "KzvUaZI5X97s"
      },
      "execution_count": 38,
      "outputs": []
    },
    {
      "cell_type": "code",
      "source": [
        "v3 = v1 + v2"
      ],
      "metadata": {
        "id": "5fKbb4-wYqlz"
      },
      "execution_count": 39,
      "outputs": []
    },
    {
      "cell_type": "code",
      "source": [
        "print(v3)"
      ],
      "metadata": {
        "colab": {
          "base_uri": "https://localhost:8080/"
        },
        "id": "GgR3IaScYtZa",
        "outputId": "18b10ab4-44f8-4e1c-c2d3-b9db2ecbdad7"
      },
      "execution_count": 40,
      "outputs": [
        {
          "output_type": "stream",
          "name": "stdout",
          "text": [
            "(6, 8)\n"
          ]
        }
      ]
    },
    {
      "cell_type": "code",
      "source": [
        "# 11.  Create a class Person with attributes name and age. Add a method greet() that prints \"Hello, my name is {name} and I am {age} years old.\"\n",
        "\n",
        "\n",
        "class Person:\n",
        "    def __init__(self, name, age):\n",
        "        self.name = name\n",
        "        self.age = age\n",
        "\n",
        "    def greet(self):\n",
        "        print(f\"Hello, my name is {self.name} and I am {self.age} years old.\")\n",
        "\n",
        ""
      ],
      "metadata": {
        "id": "pcDCzHaHYv1i"
      },
      "execution_count": 41,
      "outputs": []
    },
    {
      "cell_type": "code",
      "source": [
        "person1 = Person(\"Ajay\", 30)\n"
      ],
      "metadata": {
        "id": "hNABk9jFaL4h"
      },
      "execution_count": 42,
      "outputs": []
    },
    {
      "cell_type": "code",
      "source": [
        "person1.greet()"
      ],
      "metadata": {
        "colab": {
          "base_uri": "https://localhost:8080/"
        },
        "id": "W9oSZ4D5aZRJ",
        "outputId": "0b6d76f6-3780-4a11-902e-d0ac22eb6640"
      },
      "execution_count": 43,
      "outputs": [
        {
          "output_type": "stream",
          "name": "stdout",
          "text": [
            "Hello, my name is Ajay and I am 30 years old.\n"
          ]
        }
      ]
    },
    {
      "cell_type": "code",
      "source": [
        "person2 = Person(\"Dip\", 25)"
      ],
      "metadata": {
        "id": "upnEbPxjaeOA"
      },
      "execution_count": 44,
      "outputs": []
    },
    {
      "cell_type": "code",
      "source": [
        "person2.greet()"
      ],
      "metadata": {
        "colab": {
          "base_uri": "https://localhost:8080/"
        },
        "id": "bRmN3Rqja4zw",
        "outputId": "48204b08-49a1-42c6-b392-9c605b46b195"
      },
      "execution_count": 45,
      "outputs": [
        {
          "output_type": "stream",
          "name": "stdout",
          "text": [
            "Hello, my name is Dip and I am 25 years old.\n"
          ]
        }
      ]
    },
    {
      "cell_type": "code",
      "source": [
        "# 12. Implement a class Student with attributes name and grades. Create a method average_grade() to compute the average of the grades.\n",
        "\n",
        "\n",
        "\n",
        "class Student:\n",
        "    def __init__(self, name, grades):\n",
        "        self.name = name\n",
        "        self.grades = grades\n",
        "\n",
        "    def average_grade(self):\n",
        "        if self.grades:\n",
        "            return sum(self.grades) / len(self.grades)\n",
        "        else:\n",
        "            return 0\n",
        "\n",
        "\n"
      ],
      "metadata": {
        "id": "b-9beAHDa9B4"
      },
      "execution_count": 46,
      "outputs": []
    },
    {
      "cell_type": "code",
      "source": [
        "student1 = Student(\"Aman\", [85, 90, 78, 92])\n",
        "average = student1.average_grade()\n",
        "print(f\"{student1.name}'s average grade: {average}\")"
      ],
      "metadata": {
        "colab": {
          "base_uri": "https://localhost:8080/"
        },
        "id": "-bTbUbY-b3L_",
        "outputId": "e7b6a45e-a747-4c34-cf25-a22e1275bbe6"
      },
      "execution_count": 47,
      "outputs": [
        {
          "output_type": "stream",
          "name": "stdout",
          "text": [
            "Aman's average grade: 86.25\n"
          ]
        }
      ]
    },
    {
      "cell_type": "code",
      "source": [
        "student2 = Student(\"Akash\", [86, 91, 94, 98])\n",
        "average = student2.average_grade()\n",
        "print(f\"{student2.name}'s average grade: {average}\")"
      ],
      "metadata": {
        "colab": {
          "base_uri": "https://localhost:8080/"
        },
        "id": "6mzsO8_Tb9Gn",
        "outputId": "9f71ce8a-4d86-45f9-f849-abd7bcb12d34"
      },
      "execution_count": 48,
      "outputs": [
        {
          "output_type": "stream",
          "name": "stdout",
          "text": [
            "Akash's average grade: 92.25\n"
          ]
        }
      ]
    },
    {
      "cell_type": "code",
      "source": [
        "# 13.  Create a class Rectangle with methods set_dimensions() to set the dimensions and area() to calculate the area.\n",
        "\n",
        "\n",
        "class Rectangle:\n",
        "    def __init__(self, width=0, height=0):\n",
        "        #Initializes a Rectangle object with optional width and height.\n",
        "        self.width = width\n",
        "        self.height = height\n",
        "\n",
        "    def set_dimensions(self, width, height):\n",
        "        #Sets the dimensions of the rectangle.\n",
        "        self.width = width\n",
        "        self.height = height\n",
        "\n",
        "    def area(self):\n",
        "       #Calculates and returns the area of the rectangle.\n",
        "        return self.width * self.height"
      ],
      "metadata": {
        "id": "dFPivwXMcl7f"
      },
      "execution_count": 49,
      "outputs": []
    },
    {
      "cell_type": "code",
      "source": [
        "my_rectangle = Rectangle()"
      ],
      "metadata": {
        "id": "sxc6ZEnKiWWB"
      },
      "execution_count": 50,
      "outputs": []
    },
    {
      "cell_type": "code",
      "source": [
        "my_rectangle.set_dimensions(5, 3)"
      ],
      "metadata": {
        "id": "MigumIivkMpn"
      },
      "execution_count": 51,
      "outputs": []
    },
    {
      "cell_type": "code",
      "source": [
        "rectangle_area = my_rectangle.area()\n",
        "print(f\"The area of the rectangle is: {rectangle_area}\")"
      ],
      "metadata": {
        "colab": {
          "base_uri": "https://localhost:8080/"
        },
        "id": "lcz3l4EEkRzP",
        "outputId": "20c85489-e4b8-4b45-f4c1-282a099541da"
      },
      "execution_count": 52,
      "outputs": [
        {
          "output_type": "stream",
          "name": "stdout",
          "text": [
            "The area of the rectangle is: 15\n"
          ]
        }
      ]
    },
    {
      "cell_type": "code",
      "source": [
        "# 14. Create a class Employee with a method calculate_salary() that computes the salary based on hours worked and hourly rate. Create a derived class Manager that adds a bonus to the salary\n",
        "\n",
        "\n",
        "class Employee:\n",
        "    def __init__(self, name, hours_worked, hourly_rate):\n",
        "        self.name = name\n",
        "        self.hours_worked = hours_worked\n",
        "        self.hourly_rate = hourly_rate\n",
        "\n",
        "    def calculate_salary(self):\n",
        "        return self.hours_worked * self.hourly_rate\n",
        "\n",
        "\n",
        "class Manager(Employee):\n",
        "    def __init__(self, name, hours_worked, hourly_rate, bonus):\n",
        "        super().__init__(name, hours_worked, hourly_rate)\n",
        "        self.bonus = bonus\n",
        "\n",
        "    def calculate_salary(self):\n",
        "        base_salary = super().calculate_salary()\n",
        "        return base_salary + self.bonus\n",
        "\n",
        ""
      ],
      "metadata": {
        "id": "kWhO8KvFkl6W"
      },
      "execution_count": 55,
      "outputs": []
    },
    {
      "cell_type": "code",
      "source": [
        "employee1 = Employee(\"Bijay\", 48, 80)\n",
        "employee_salary = employee1.calculate_salary()\n"
      ],
      "metadata": {
        "id": "BXT9fdMplkU9"
      },
      "execution_count": 65,
      "outputs": []
    },
    {
      "cell_type": "code",
      "source": [
        "print(f\"{employee1.name}'s salary: Rs. {employee_salary}\")"
      ],
      "metadata": {
        "colab": {
          "base_uri": "https://localhost:8080/"
        },
        "id": "mVUUlYVLrY2X",
        "outputId": "f67b3165-7113-42d3-a9f6-0edd01dae28a"
      },
      "execution_count": 66,
      "outputs": [
        {
          "output_type": "stream",
          "name": "stdout",
          "text": [
            "Bijay's salary: Rs. 3840\n"
          ]
        }
      ]
    },
    {
      "cell_type": "code",
      "source": [
        "employee2 = Employee(\"Aman\", 48, 2000)\n",
        "employee_salary = employee2.calculate_salary()"
      ],
      "metadata": {
        "id": "TttmIV9LsgSm"
      },
      "execution_count": 70,
      "outputs": []
    },
    {
      "cell_type": "code",
      "source": [
        "print(f\"{employee2.name}'s salary: Rs. {employee_salary}\")"
      ],
      "metadata": {
        "colab": {
          "base_uri": "https://localhost:8080/"
        },
        "id": "P53-aed-tXqV",
        "outputId": "693c5f22-7c41-406e-9386-de0e5ee0c7df"
      },
      "execution_count": 71,
      "outputs": [
        {
          "output_type": "stream",
          "name": "stdout",
          "text": [
            "Aman's salary: Rs. 96000\n"
          ]
        }
      ]
    },
    {
      "cell_type": "code",
      "source": [
        "manager1 = Manager(\"Randhir\", 40, 3000, 1000)\n",
        "manager_salary = manager1.calculate_salary()\n"
      ],
      "metadata": {
        "id": "DypRysiIti79"
      },
      "execution_count": 74,
      "outputs": []
    },
    {
      "cell_type": "code",
      "source": [
        "print(f\"{manager1.name}'s salary: Rs. {manager_salary}\")"
      ],
      "metadata": {
        "colab": {
          "base_uri": "https://localhost:8080/"
        },
        "id": "fmXyo6mzuXiU",
        "outputId": "caef2d10-08f3-4e96-94e2-8aa07550c929"
      },
      "execution_count": 75,
      "outputs": [
        {
          "output_type": "stream",
          "name": "stdout",
          "text": [
            "Randhir's salary: Rs. 121000\n"
          ]
        }
      ]
    },
    {
      "cell_type": "code",
      "source": [
        "# 15. Create a class Product with attributes name, price, and quantity. Implement a method total_price() that calculates the total price of the product.\n",
        "\n",
        "\n",
        "class Product:\n",
        "    def __init__(self, name, price, quantity):\n",
        "        self.name = name\n",
        "        self.price = price\n",
        "        self.quantity = quantity\n",
        "\n",
        "    def total_price(self):\n",
        "        return self.price * self.quantity\n",
        "\n",
        ""
      ],
      "metadata": {
        "id": "p8IIWD23v62D"
      },
      "execution_count": 76,
      "outputs": []
    },
    {
      "cell_type": "code",
      "source": [
        "product1 = Product(\"Laptop\", 1200, 300)\n",
        "total_price1 = product1.total_price()"
      ],
      "metadata": {
        "id": "CU5XCUhjwdoK"
      },
      "execution_count": 79,
      "outputs": []
    },
    {
      "cell_type": "code",
      "source": [
        "print(f\"Total price of {product1.name}: Rs.{total_price1}\")"
      ],
      "metadata": {
        "colab": {
          "base_uri": "https://localhost:8080/"
        },
        "id": "UO2ptbpXwn7q",
        "outputId": "01566adb-d81a-455c-8bed-5a53a3bc102f"
      },
      "execution_count": 80,
      "outputs": [
        {
          "output_type": "stream",
          "name": "stdout",
          "text": [
            "Total price of Laptop: Rs.360000\n"
          ]
        }
      ]
    },
    {
      "cell_type": "code",
      "source": [
        "product2 = Product(\"Book\", 20, 500)\n",
        "total_price2 = product2.total_price()\n",
        "print(f\"Total price of {product2.name}: Rs.{total_price2}\")"
      ],
      "metadata": {
        "colab": {
          "base_uri": "https://localhost:8080/"
        },
        "id": "epJU8MzMwouq",
        "outputId": "45de3366-a222-4b78-f05d-3f948ecc22ab"
      },
      "execution_count": 81,
      "outputs": [
        {
          "output_type": "stream",
          "name": "stdout",
          "text": [
            "Total price of Book: Rs.10000\n"
          ]
        }
      ]
    },
    {
      "cell_type": "code",
      "source": [
        "# 16. Create a class Animal with an abstract method sound(). Create two derived classes Cow and Sheep that implement the sound() method.\n",
        "\n",
        "\n",
        "from abc import ABC, abstractmethod\n",
        "\n",
        "class Animal(ABC):  # Abstract class\n",
        "    @abstractmethod\n",
        "    def sound(self):\n",
        "        pass  # Abstract method\n",
        "\n",
        "class Cow(Animal):\n",
        "    def sound(self):\n",
        "        print(\"Moo!\")  # Cow's sound\n",
        "\n",
        "class Sheep(Animal):\n",
        "    def sound(self):\n",
        "        print(\"Baa!\")  # Sheep's sound"
      ],
      "metadata": {
        "id": "hK4lMEQCw4sR"
      },
      "execution_count": 82,
      "outputs": []
    },
    {
      "cell_type": "code",
      "source": [
        "white_cow1 = Cow()\n",
        "white_cow1.sound()"
      ],
      "metadata": {
        "colab": {
          "base_uri": "https://localhost:8080/"
        },
        "id": "c8kBlzCSxUCZ",
        "outputId": "821682f2-f475-47e2-db60-461a8633b6e8"
      },
      "execution_count": 84,
      "outputs": [
        {
          "output_type": "stream",
          "name": "stdout",
          "text": [
            "Moo!\n"
          ]
        }
      ]
    },
    {
      "cell_type": "code",
      "source": [
        "Black_sheep = Sheep()\n",
        "Black_sheep.sound()"
      ],
      "metadata": {
        "colab": {
          "base_uri": "https://localhost:8080/"
        },
        "id": "pow0ioXzxZNh",
        "outputId": "e73f933c-dfd2-49dc-ea9b-ddeff80f3678"
      },
      "execution_count": 85,
      "outputs": [
        {
          "output_type": "stream",
          "name": "stdout",
          "text": [
            "Baa!\n"
          ]
        }
      ]
    },
    {
      "cell_type": "code",
      "source": [
        "# 17. Create a class Book with attributes title, author, and year_published. Add a method get_book_info() that returns a formatted string with the book's details.\n",
        "\n",
        "\n",
        "class Book:\n",
        "    def __init__(self, title, author, year_published):\n",
        "        self.title = title\n",
        "        self.author = author\n",
        "        self.year_published = year_published\n",
        "\n",
        "    def get_book_info(self):\n",
        "        return f\"Title: {self.title}, Author: {self.author}, Year Published: {self.year_published}\"\n",
        "\n",
        ""
      ],
      "metadata": {
        "id": "em45glshxmY4"
      },
      "execution_count": 86,
      "outputs": []
    },
    {
      "cell_type": "code",
      "source": [
        "Story_book = Book(\"The Lord of the Rings\", \"J.R.R. Tolkien\", 1954)\n",
        "book_info = Story_book.get_book_info()"
      ],
      "metadata": {
        "id": "HH1JZ3IMx9_Q"
      },
      "execution_count": 87,
      "outputs": []
    },
    {
      "cell_type": "code",
      "source": [
        "print(book_info)"
      ],
      "metadata": {
        "colab": {
          "base_uri": "https://localhost:8080/"
        },
        "id": "vI8nIgopyONg",
        "outputId": "2fcd876f-8217-435e-9a43-23fcfa472bb0"
      },
      "execution_count": 88,
      "outputs": [
        {
          "output_type": "stream",
          "name": "stdout",
          "text": [
            "Title: The Lord of the Rings, Author: J.R.R. Tolkien, Year Published: 1954\n"
          ]
        }
      ]
    },
    {
      "cell_type": "code",
      "source": [
        "# 18. Create a class House with attributes address and price. Create a derived class Mansion that adds an attribute number_of_rooms\n",
        "\n",
        "\n",
        "class House:\n",
        "    def __init__(self, address, price):\n",
        "        self.address = address\n",
        "        self.price = price\n",
        "\n",
        "class Mansion(House):\n",
        "    def __init__(self, address, price, number_of_rooms):\n",
        "        super().__init__(address, price)\n",
        "        self.number_of_rooms = number_of_rooms\n",
        "\n",
        ""
      ],
      "metadata": {
        "id": "fQVI7GmZyQPg"
      },
      "execution_count": 89,
      "outputs": []
    },
    {
      "cell_type": "code",
      "source": [
        "house1 = House(\"123 Main St\", 500000)\n",
        "mansion1 = Mansion(\"456 Park st.\", 2000000, 10)"
      ],
      "metadata": {
        "id": "6wNcDjKH0wju"
      },
      "execution_count": 90,
      "outputs": []
    },
    {
      "cell_type": "code",
      "source": [
        "print(house1.address, house1.price)"
      ],
      "metadata": {
        "colab": {
          "base_uri": "https://localhost:8080/"
        },
        "id": "qsj5RfEc05Ye",
        "outputId": "84b8fb62-8227-45ef-fccf-edd7a8c2ee5b"
      },
      "execution_count": 91,
      "outputs": [
        {
          "output_type": "stream",
          "name": "stdout",
          "text": [
            "123 Main St 500000\n"
          ]
        }
      ]
    },
    {
      "cell_type": "code",
      "source": [
        "print(mansion1.address, mansion1.price, mansion1.number_of_rooms)"
      ],
      "metadata": {
        "colab": {
          "base_uri": "https://localhost:8080/"
        },
        "id": "R7xO5W3m0739",
        "outputId": "ab8ed92d-ef2c-46d6-8e93-acd692090d44"
      },
      "execution_count": 92,
      "outputs": [
        {
          "output_type": "stream",
          "name": "stdout",
          "text": [
            "456 Park st. 2000000 10\n"
          ]
        }
      ]
    },
    {
      "cell_type": "code",
      "source": [],
      "metadata": {
        "id": "0iXaZF3C0-81"
      },
      "execution_count": null,
      "outputs": []
    }
  ]
}